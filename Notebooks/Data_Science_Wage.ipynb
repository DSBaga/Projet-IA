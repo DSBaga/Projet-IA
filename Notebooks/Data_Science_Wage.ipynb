{
 "cells": [
  {
   "cell_type": "markdown",
   "id": "29ca0640",
   "metadata": {},
   "source": [
    "# H2o AutoMl "
   ]
  },
  {
   "cell_type": "code",
   "execution_count": 2,
   "id": "9ab06be8",
   "metadata": {},
   "outputs": [],
   "source": [
    "# Importation des packages\n",
    "import numpy as np\n",
    "import matplotlib.pyplot as plt\n",
    "import matplotlib.animation as animation\n",
    "from matplotlib import rc\n",
    "import pandas as pd\n"
   ]
  },
  {
   "cell_type": "code",
   "execution_count": 3,
   "id": "b5ea4092",
   "metadata": {},
   "outputs": [],
   "source": [
    "## Imporation des données\n",
    "df = pd.read_csv(\"../Data/Data_Science_Salaries.csv\", sep=\";\")"
   ]
  },
  {
   "cell_type": "code",
   "execution_count": 4,
   "id": "036095cc",
   "metadata": {},
   "outputs": [
    {
     "name": "stdout",
     "output_type": "stream",
     "text": [
      "<class 'pandas.core.frame.DataFrame'>\n",
      "RangeIndex: 5736 entries, 0 to 5735\n",
      "Data columns (total 11 columns):\n",
      " #   Column              Non-Null Count  Dtype \n",
      "---  ------              --------------  ----- \n",
      " 0   Job_Title           5736 non-null   object\n",
      " 1   Employment_Type     5736 non-null   object\n",
      " 2   Experience_Level    5736 non-null   object\n",
      " 3   Expertise_Level     5736 non-null   object\n",
      " 4   Salary              5736 non-null   int64 \n",
      " 5   Salary_Currency     5736 non-null   object\n",
      " 6   Company_Location    5736 non-null   object\n",
      " 7   Salary_in_USD       5736 non-null   int64 \n",
      " 8   Employee_Residence  5736 non-null   object\n",
      " 9   Company_Size        5736 non-null   object\n",
      " 10  Year                5736 non-null   int64 \n",
      "dtypes: int64(3), object(8)\n",
      "memory usage: 493.1+ KB\n"
     ]
    }
   ],
   "source": [
    "## Afficher les types de données\n",
    "df.info()"
   ]
  },
  {
   "cell_type": "code",
   "execution_count": 5,
   "id": "0ab25f01",
   "metadata": {},
   "outputs": [
    {
     "data": {
      "text/html": [
       "<div>\n",
       "<style scoped>\n",
       "    .dataframe tbody tr th:only-of-type {\n",
       "        vertical-align: middle;\n",
       "    }\n",
       "\n",
       "    .dataframe tbody tr th {\n",
       "        vertical-align: top;\n",
       "    }\n",
       "\n",
       "    .dataframe thead th {\n",
       "        text-align: right;\n",
       "    }\n",
       "</style>\n",
       "<table border=\"1\" class=\"dataframe\">\n",
       "  <thead>\n",
       "    <tr style=\"text-align: right;\">\n",
       "      <th></th>\n",
       "      <th>Job_Title</th>\n",
       "      <th>Employment_Type</th>\n",
       "      <th>Experience_Level</th>\n",
       "      <th>Expertise_Level</th>\n",
       "      <th>Salary</th>\n",
       "      <th>Salary_Currency</th>\n",
       "      <th>Company_Location</th>\n",
       "      <th>Salary_in_USD</th>\n",
       "      <th>Employee_Residence</th>\n",
       "      <th>Company_Size</th>\n",
       "      <th>Year</th>\n",
       "    </tr>\n",
       "  </thead>\n",
       "  <tbody>\n",
       "    <tr>\n",
       "      <th>0</th>\n",
       "      <td>Data Engineer</td>\n",
       "      <td>Full-Time</td>\n",
       "      <td>Mid</td>\n",
       "      <td>Intermediate</td>\n",
       "      <td>138000</td>\n",
       "      <td>United States Dollar</td>\n",
       "      <td>United States</td>\n",
       "      <td>138000</td>\n",
       "      <td>United States</td>\n",
       "      <td>Medium</td>\n",
       "      <td>2024</td>\n",
       "    </tr>\n",
       "    <tr>\n",
       "      <th>1</th>\n",
       "      <td>Data Engineer</td>\n",
       "      <td>Full-Time</td>\n",
       "      <td>Mid</td>\n",
       "      <td>Intermediate</td>\n",
       "      <td>86000</td>\n",
       "      <td>United States Dollar</td>\n",
       "      <td>United States</td>\n",
       "      <td>86000</td>\n",
       "      <td>United States</td>\n",
       "      <td>Medium</td>\n",
       "      <td>2024</td>\n",
       "    </tr>\n",
       "    <tr>\n",
       "      <th>2</th>\n",
       "      <td>Data Analyst</td>\n",
       "      <td>Full-Time</td>\n",
       "      <td>Entry</td>\n",
       "      <td>Junior</td>\n",
       "      <td>179000</td>\n",
       "      <td>United States Dollar</td>\n",
       "      <td>United States</td>\n",
       "      <td>179000</td>\n",
       "      <td>United States</td>\n",
       "      <td>Medium</td>\n",
       "      <td>2024</td>\n",
       "    </tr>\n",
       "    <tr>\n",
       "      <th>3</th>\n",
       "      <td>Data Analyst</td>\n",
       "      <td>Full-Time</td>\n",
       "      <td>Entry</td>\n",
       "      <td>Junior</td>\n",
       "      <td>112000</td>\n",
       "      <td>United States Dollar</td>\n",
       "      <td>United States</td>\n",
       "      <td>112000</td>\n",
       "      <td>United States</td>\n",
       "      <td>Medium</td>\n",
       "      <td>2024</td>\n",
       "    </tr>\n",
       "    <tr>\n",
       "      <th>4</th>\n",
       "      <td>Business Intelligence Developer</td>\n",
       "      <td>Full-Time</td>\n",
       "      <td>Mid</td>\n",
       "      <td>Intermediate</td>\n",
       "      <td>92000</td>\n",
       "      <td>United States Dollar</td>\n",
       "      <td>United States</td>\n",
       "      <td>92000</td>\n",
       "      <td>United States</td>\n",
       "      <td>Medium</td>\n",
       "      <td>2024</td>\n",
       "    </tr>\n",
       "  </tbody>\n",
       "</table>\n",
       "</div>"
      ],
      "text/plain": [
       "                         Job_Title Employment_Type Experience_Level  \\\n",
       "0                    Data Engineer       Full-Time              Mid   \n",
       "1                    Data Engineer       Full-Time              Mid   \n",
       "2                     Data Analyst       Full-Time            Entry   \n",
       "3                     Data Analyst       Full-Time            Entry   \n",
       "4  Business Intelligence Developer       Full-Time              Mid   \n",
       "\n",
       "  Expertise_Level  Salary       Salary_Currency Company_Location  \\\n",
       "0    Intermediate  138000  United States Dollar    United States   \n",
       "1    Intermediate   86000  United States Dollar    United States   \n",
       "2          Junior  179000  United States Dollar    United States   \n",
       "3          Junior  112000  United States Dollar    United States   \n",
       "4    Intermediate   92000  United States Dollar    United States   \n",
       "\n",
       "   Salary_in_USD Employee_Residence Company_Size  Year  \n",
       "0         138000      United States       Medium  2024  \n",
       "1          86000      United States       Medium  2024  \n",
       "2         179000      United States       Medium  2024  \n",
       "3         112000      United States       Medium  2024  \n",
       "4          92000      United States       Medium  2024  "
      ]
     },
     "execution_count": 5,
     "metadata": {},
     "output_type": "execute_result"
    }
   ],
   "source": [
    "# Afficher par defaut les 5 premières lignes\n",
    "df.head()"
   ]
  },
  {
   "cell_type": "code",
   "execution_count": 6,
   "id": "42f4d394",
   "metadata": {},
   "outputs": [
    {
     "data": {
      "text/plain": [
       "(5736, 11)"
      ]
     },
     "execution_count": 6,
     "metadata": {},
     "output_type": "execute_result"
    }
   ],
   "source": [
    "# Afficher la dimension du dataframe\n",
    "df.shape"
   ]
  },
  {
   "cell_type": "code",
   "execution_count": 7,
   "id": "158693da",
   "metadata": {},
   "outputs": [
    {
     "data": {
      "text/html": [
       "<div>\n",
       "<style scoped>\n",
       "    .dataframe tbody tr th:only-of-type {\n",
       "        vertical-align: middle;\n",
       "    }\n",
       "\n",
       "    .dataframe tbody tr th {\n",
       "        vertical-align: top;\n",
       "    }\n",
       "\n",
       "    .dataframe thead th {\n",
       "        text-align: right;\n",
       "    }\n",
       "</style>\n",
       "<table border=\"1\" class=\"dataframe\">\n",
       "  <thead>\n",
       "    <tr style=\"text-align: right;\">\n",
       "      <th></th>\n",
       "      <th>Salary</th>\n",
       "      <th>Salary_in_USD</th>\n",
       "      <th>Year</th>\n",
       "    </tr>\n",
       "  </thead>\n",
       "  <tbody>\n",
       "    <tr>\n",
       "      <th>count</th>\n",
       "      <td>5.736000e+03</td>\n",
       "      <td>5736.000000</td>\n",
       "      <td>5736.000000</td>\n",
       "    </tr>\n",
       "    <tr>\n",
       "      <th>mean</th>\n",
       "      <td>1.831648e+05</td>\n",
       "      <td>144264.031032</td>\n",
       "      <td>2022.743375</td>\n",
       "    </tr>\n",
       "    <tr>\n",
       "      <th>std</th>\n",
       "      <td>5.637801e+05</td>\n",
       "      <td>70646.771842</td>\n",
       "      <td>0.644506</td>\n",
       "    </tr>\n",
       "    <tr>\n",
       "      <th>min</th>\n",
       "      <td>1.400000e+04</td>\n",
       "      <td>15000.000000</td>\n",
       "      <td>2020.000000</td>\n",
       "    </tr>\n",
       "    <tr>\n",
       "      <th>25%</th>\n",
       "      <td>9.500000e+04</td>\n",
       "      <td>93300.000000</td>\n",
       "      <td>2023.000000</td>\n",
       "    </tr>\n",
       "    <tr>\n",
       "      <th>50%</th>\n",
       "      <td>1.397250e+05</td>\n",
       "      <td>136771.500000</td>\n",
       "      <td>2023.000000</td>\n",
       "    </tr>\n",
       "    <tr>\n",
       "      <th>75%</th>\n",
       "      <td>1.880000e+05</td>\n",
       "      <td>185000.000000</td>\n",
       "      <td>2023.000000</td>\n",
       "    </tr>\n",
       "    <tr>\n",
       "      <th>max</th>\n",
       "      <td>3.040000e+07</td>\n",
       "      <td>750000.000000</td>\n",
       "      <td>2024.000000</td>\n",
       "    </tr>\n",
       "  </tbody>\n",
       "</table>\n",
       "</div>"
      ],
      "text/plain": [
       "             Salary  Salary_in_USD         Year\n",
       "count  5.736000e+03    5736.000000  5736.000000\n",
       "mean   1.831648e+05  144264.031032  2022.743375\n",
       "std    5.637801e+05   70646.771842     0.644506\n",
       "min    1.400000e+04   15000.000000  2020.000000\n",
       "25%    9.500000e+04   93300.000000  2023.000000\n",
       "50%    1.397250e+05  136771.500000  2023.000000\n",
       "75%    1.880000e+05  185000.000000  2023.000000\n",
       "max    3.040000e+07  750000.000000  2024.000000"
      ]
     },
     "execution_count": 7,
     "metadata": {},
     "output_type": "execute_result"
    }
   ],
   "source": [
    "# Afficher les statistiques descriptives\n",
    "df.describe()"
   ]
  },
  {
   "cell_type": "code",
   "execution_count": 8,
   "id": "4a71a94c",
   "metadata": {},
   "outputs": [
    {
     "data": {
      "text/plain": [
       "Job_Title             0\n",
       "Employment_Type       0\n",
       "Experience_Level      0\n",
       "Expertise_Level       0\n",
       "Salary                0\n",
       "Salary_Currency       0\n",
       "Company_Location      0\n",
       "Salary_in_USD         0\n",
       "Employee_Residence    0\n",
       "Company_Size          0\n",
       "Year                  0\n",
       "dtype: int64"
      ]
     },
     "execution_count": 8,
     "metadata": {},
     "output_type": "execute_result"
    }
   ],
   "source": [
    "# Afficher les valeurs manquantes\n",
    "df.isnull().sum()"
   ]
  },
  {
   "cell_type": "code",
   "execution_count": 10,
   "id": "e0e52360",
   "metadata": {},
   "outputs": [],
   "source": [
    "# Supprimer les colonnes Salary et Salary_Currency\n",
    "df = df.drop(['Salary','Salary_Currency'], axis=1)"
   ]
  },
  {
   "cell_type": "code",
   "execution_count": 11,
   "id": "770f55e4",
   "metadata": {},
   "outputs": [
    {
     "name": "stdout",
     "output_type": "stream",
     "text": [
      "<class 'pandas.core.frame.DataFrame'>\n",
      "RangeIndex: 5736 entries, 0 to 5735\n",
      "Data columns (total 9 columns):\n",
      " #   Column              Non-Null Count  Dtype \n",
      "---  ------              --------------  ----- \n",
      " 0   Job_Title           5736 non-null   object\n",
      " 1   Employment_Type     5736 non-null   object\n",
      " 2   Experience_Level    5736 non-null   object\n",
      " 3   Expertise_Level     5736 non-null   object\n",
      " 4   Company_Location    5736 non-null   object\n",
      " 5   Salary_in_USD       5736 non-null   int64 \n",
      " 6   Employee_Residence  5736 non-null   object\n",
      " 7   Company_Size        5736 non-null   object\n",
      " 8   Year                5736 non-null   int64 \n",
      "dtypes: int64(2), object(7)\n",
      "memory usage: 403.4+ KB\n"
     ]
    }
   ],
   "source": [
    "# Afficher les types des colonnes\n",
    "df.info()"
   ]
  },
  {
   "cell_type": "code",
   "execution_count": 12,
   "id": "88e12489",
   "metadata": {},
   "outputs": [],
   "source": [
    "# Convertir la colonne Year en type object\n",
    "df['Year'] = df['Year'].astype(object)"
   ]
  },
  {
   "cell_type": "code",
   "execution_count": 13,
   "id": "888c1815",
   "metadata": {},
   "outputs": [
    {
     "name": "stdout",
     "output_type": "stream",
     "text": [
      "<class 'pandas.core.frame.DataFrame'>\n",
      "RangeIndex: 5736 entries, 0 to 5735\n",
      "Data columns (total 9 columns):\n",
      " #   Column              Non-Null Count  Dtype \n",
      "---  ------              --------------  ----- \n",
      " 0   Job_Title           5736 non-null   object\n",
      " 1   Employment_Type     5736 non-null   object\n",
      " 2   Experience_Level    5736 non-null   object\n",
      " 3   Expertise_Level     5736 non-null   object\n",
      " 4   Company_Location    5736 non-null   object\n",
      " 5   Salary_in_USD       5736 non-null   int64 \n",
      " 6   Employee_Residence  5736 non-null   object\n",
      " 7   Company_Size        5736 non-null   object\n",
      " 8   Year                5736 non-null   object\n",
      "dtypes: int64(1), object(8)\n",
      "memory usage: 403.4+ KB\n"
     ]
    }
   ],
   "source": [
    "# Verifier le types des colonnes\n",
    "df.info()"
   ]
  },
  {
   "cell_type": "code",
   "execution_count": 9,
   "id": "887b8ce4",
   "metadata": {},
   "outputs": [],
   "source": [
    "#df ['Year'] = pd.to_datetime(df['Year'], format='%Y')"
   ]
  },
  {
   "cell_type": "code",
   "execution_count": 14,
   "id": "3634229d",
   "metadata": {},
   "outputs": [
    {
     "data": {
      "text/html": [
       "<div>\n",
       "<style scoped>\n",
       "    .dataframe tbody tr th:only-of-type {\n",
       "        vertical-align: middle;\n",
       "    }\n",
       "\n",
       "    .dataframe tbody tr th {\n",
       "        vertical-align: top;\n",
       "    }\n",
       "\n",
       "    .dataframe thead th {\n",
       "        text-align: right;\n",
       "    }\n",
       "</style>\n",
       "<table border=\"1\" class=\"dataframe\">\n",
       "  <thead>\n",
       "    <tr style=\"text-align: right;\">\n",
       "      <th></th>\n",
       "      <th>Job_Title</th>\n",
       "      <th>Employment_Type</th>\n",
       "      <th>Experience_Level</th>\n",
       "      <th>Expertise_Level</th>\n",
       "      <th>Company_Location</th>\n",
       "      <th>Salary_in_USD</th>\n",
       "      <th>Employee_Residence</th>\n",
       "      <th>Company_Size</th>\n",
       "      <th>Year</th>\n",
       "    </tr>\n",
       "  </thead>\n",
       "  <tbody>\n",
       "    <tr>\n",
       "      <th>0</th>\n",
       "      <td>Data Engineer</td>\n",
       "      <td>Full-Time</td>\n",
       "      <td>Mid</td>\n",
       "      <td>Intermediate</td>\n",
       "      <td>United States</td>\n",
       "      <td>138000</td>\n",
       "      <td>United States</td>\n",
       "      <td>Medium</td>\n",
       "      <td>2024</td>\n",
       "    </tr>\n",
       "    <tr>\n",
       "      <th>1</th>\n",
       "      <td>Data Engineer</td>\n",
       "      <td>Full-Time</td>\n",
       "      <td>Mid</td>\n",
       "      <td>Intermediate</td>\n",
       "      <td>United States</td>\n",
       "      <td>86000</td>\n",
       "      <td>United States</td>\n",
       "      <td>Medium</td>\n",
       "      <td>2024</td>\n",
       "    </tr>\n",
       "    <tr>\n",
       "      <th>2</th>\n",
       "      <td>Data Analyst</td>\n",
       "      <td>Full-Time</td>\n",
       "      <td>Entry</td>\n",
       "      <td>Junior</td>\n",
       "      <td>United States</td>\n",
       "      <td>179000</td>\n",
       "      <td>United States</td>\n",
       "      <td>Medium</td>\n",
       "      <td>2024</td>\n",
       "    </tr>\n",
       "    <tr>\n",
       "      <th>3</th>\n",
       "      <td>Data Analyst</td>\n",
       "      <td>Full-Time</td>\n",
       "      <td>Entry</td>\n",
       "      <td>Junior</td>\n",
       "      <td>United States</td>\n",
       "      <td>112000</td>\n",
       "      <td>United States</td>\n",
       "      <td>Medium</td>\n",
       "      <td>2024</td>\n",
       "    </tr>\n",
       "    <tr>\n",
       "      <th>4</th>\n",
       "      <td>Business Intelligence Developer</td>\n",
       "      <td>Full-Time</td>\n",
       "      <td>Mid</td>\n",
       "      <td>Intermediate</td>\n",
       "      <td>United States</td>\n",
       "      <td>92000</td>\n",
       "      <td>United States</td>\n",
       "      <td>Medium</td>\n",
       "      <td>2024</td>\n",
       "    </tr>\n",
       "  </tbody>\n",
       "</table>\n",
       "</div>"
      ],
      "text/plain": [
       "                         Job_Title Employment_Type Experience_Level  \\\n",
       "0                    Data Engineer       Full-Time              Mid   \n",
       "1                    Data Engineer       Full-Time              Mid   \n",
       "2                     Data Analyst       Full-Time            Entry   \n",
       "3                     Data Analyst       Full-Time            Entry   \n",
       "4  Business Intelligence Developer       Full-Time              Mid   \n",
       "\n",
       "  Expertise_Level Company_Location  Salary_in_USD Employee_Residence  \\\n",
       "0    Intermediate    United States         138000      United States   \n",
       "1    Intermediate    United States          86000      United States   \n",
       "2          Junior    United States         179000      United States   \n",
       "3          Junior    United States         112000      United States   \n",
       "4    Intermediate    United States          92000      United States   \n",
       "\n",
       "  Company_Size  Year  \n",
       "0       Medium  2024  \n",
       "1       Medium  2024  \n",
       "2       Medium  2024  \n",
       "3       Medium  2024  \n",
       "4       Medium  2024  "
      ]
     },
     "execution_count": 14,
     "metadata": {},
     "output_type": "execute_result"
    }
   ],
   "source": [
    "df.head()\n",
    "# Supprimer la colonne salary'\n",
    "#df = df.drop(columns=['salary'])"
   ]
  },
  {
   "cell_type": "code",
   "execution_count": 15,
   "id": "0f12f18c",
   "metadata": {},
   "outputs": [],
   "source": [
    "# Importation du modele avec h2o\n",
    "import h2o\n",
    "from h2o.automl import H2OAutoML"
   ]
  },
  {
   "cell_type": "code",
   "execution_count": 16,
   "id": "d74bec7a",
   "metadata": {},
   "outputs": [
    {
     "name": "stdout",
     "output_type": "stream",
     "text": [
      "Checking whether there is an H2O instance running at http://localhost:54321..... not found.\n",
      "Attempting to start a local H2O server...\n",
      "; Java HotSpot(TM) Client VM (build 25.421-b09, mixed mode, sharing)\n",
      "  Starting server from C:\\Users\\bagay\\AppData\\Local\\Programs\\Python\\Python312\\Lib\\site-packages\\h2o\\backend\\bin\\h2o.jar\n",
      "  Ice root: C:\\Users\\bagay\\AppData\\Local\\Temp\\tmpwni_be3m\n",
      "  JVM stdout: C:\\Users\\bagay\\AppData\\Local\\Temp\\tmpwni_be3m\\h2o_bagay_started_from_python.out\n",
      "  JVM stderr: C:\\Users\\bagay\\AppData\\Local\\Temp\\tmpwni_be3m\\h2o_bagay_started_from_python.err\n"
     ]
    },
    {
     "name": "stderr",
     "output_type": "stream",
     "text": [
      "c:\\Users\\bagay\\AppData\\Local\\Programs\\Python\\Python312\\Lib\\site-packages\\h2o\\backend\\server.py:395: UserWarning:   You have a 32-bit version of Java. H2O works best with 64-bit Java.\n",
      "  Please download the latest 64-bit Java SE JDK from Oracle.\n",
      "\n",
      "  warn(\"  You have a 32-bit version of Java. H2O works best with 64-bit Java.\\n\"\n"
     ]
    },
    {
     "name": "stdout",
     "output_type": "stream",
     "text": [
      "  Server is running at http://127.0.0.1:54321\n",
      "Connecting to H2O server at http://127.0.0.1:54321 ... successful.\n"
     ]
    },
    {
     "data": {
      "text/html": [
       "\n",
       "<style>\n",
       "\n",
       "#h2o-table-1.h2o-container {\n",
       "  overflow-x: auto;\n",
       "}\n",
       "#h2o-table-1 .h2o-table {\n",
       "  /* width: 100%; */\n",
       "  margin-top: 1em;\n",
       "  margin-bottom: 1em;\n",
       "}\n",
       "#h2o-table-1 .h2o-table caption {\n",
       "  white-space: nowrap;\n",
       "  caption-side: top;\n",
       "  text-align: left;\n",
       "  /* margin-left: 1em; */\n",
       "  margin: 0;\n",
       "  font-size: larger;\n",
       "}\n",
       "#h2o-table-1 .h2o-table thead {\n",
       "  white-space: nowrap; \n",
       "  position: sticky;\n",
       "  top: 0;\n",
       "  box-shadow: 0 -1px inset;\n",
       "}\n",
       "#h2o-table-1 .h2o-table tbody {\n",
       "  overflow: auto;\n",
       "}\n",
       "#h2o-table-1 .h2o-table th,\n",
       "#h2o-table-1 .h2o-table td {\n",
       "  text-align: right;\n",
       "  /* border: 1px solid; */\n",
       "}\n",
       "#h2o-table-1 .h2o-table tr:nth-child(even) {\n",
       "  /* background: #F5F5F5 */\n",
       "}\n",
       "\n",
       "</style>      \n",
       "<div id=\"h2o-table-1\" class=\"h2o-container\">\n",
       "  <table class=\"h2o-table\">\n",
       "    <caption></caption>\n",
       "    <thead></thead>\n",
       "    <tbody><tr><td>H2O_cluster_uptime:</td>\n",
       "<td>06 secs</td></tr>\n",
       "<tr><td>H2O_cluster_timezone:</td>\n",
       "<td>Europe/Paris</td></tr>\n",
       "<tr><td>H2O_data_parsing_timezone:</td>\n",
       "<td>UTC</td></tr>\n",
       "<tr><td>H2O_cluster_version:</td>\n",
       "<td>3.46.0.4</td></tr>\n",
       "<tr><td>H2O_cluster_version_age:</td>\n",
       "<td>1 month and 9 days</td></tr>\n",
       "<tr><td>H2O_cluster_name:</td>\n",
       "<td>H2O_from_python_bagay_rstp2a</td></tr>\n",
       "<tr><td>H2O_cluster_total_nodes:</td>\n",
       "<td>1</td></tr>\n",
       "<tr><td>H2O_cluster_free_memory:</td>\n",
       "<td>247.5 Mb</td></tr>\n",
       "<tr><td>H2O_cluster_total_cores:</td>\n",
       "<td>0</td></tr>\n",
       "<tr><td>H2O_cluster_allowed_cores:</td>\n",
       "<td>0</td></tr>\n",
       "<tr><td>H2O_cluster_status:</td>\n",
       "<td>locked, healthy</td></tr>\n",
       "<tr><td>H2O_connection_url:</td>\n",
       "<td>http://127.0.0.1:54321</td></tr>\n",
       "<tr><td>H2O_connection_proxy:</td>\n",
       "<td>{\"http\": null, \"https\": null}</td></tr>\n",
       "<tr><td>H2O_internal_security:</td>\n",
       "<td>False</td></tr>\n",
       "<tr><td>Python_version:</td>\n",
       "<td>3.12.4 final</td></tr></tbody>\n",
       "  </table>\n",
       "</div>\n"
      ],
      "text/plain": [
       "--------------------------  -----------------------------\n",
       "H2O_cluster_uptime:         06 secs\n",
       "H2O_cluster_timezone:       Europe/Paris\n",
       "H2O_data_parsing_timezone:  UTC\n",
       "H2O_cluster_version:        3.46.0.4\n",
       "H2O_cluster_version_age:    1 month and 9 days\n",
       "H2O_cluster_name:           H2O_from_python_bagay_rstp2a\n",
       "H2O_cluster_total_nodes:    1\n",
       "H2O_cluster_free_memory:    247.5 Mb\n",
       "H2O_cluster_total_cores:    0\n",
       "H2O_cluster_allowed_cores:  0\n",
       "H2O_cluster_status:         locked, healthy\n",
       "H2O_connection_url:         http://127.0.0.1:54321\n",
       "H2O_connection_proxy:       {\"http\": null, \"https\": null}\n",
       "H2O_internal_security:      False\n",
       "Python_version:             3.12.4 final\n",
       "--------------------------  -----------------------------"
      ]
     },
     "metadata": {},
     "output_type": "display_data"
    }
   ],
   "source": [
    "# Initialisation de h2o\n",
    "h2o.init()"
   ]
  },
  {
   "cell_type": "code",
   "execution_count": 17,
   "id": "b4fc4f64",
   "metadata": {},
   "outputs": [
    {
     "name": "stdout",
     "output_type": "stream",
     "text": [
      "Parse progress: |████████████████████████████████████████████████████████████████| (done) 100%\n"
     ]
    }
   ],
   "source": [
    "# Transformation de la dataframe pandas df en un objet H2O frame\n",
    "h2o_df = h2o.H2OFrame(df)"
   ]
  },
  {
   "cell_type": "code",
   "execution_count": 19,
   "id": "b4756bb8",
   "metadata": {},
   "outputs": [
    {
     "name": "stdout",
     "output_type": "stream",
     "text": [
      "{'Job_Title': 'enum', 'Employment_Type': 'enum', 'Experience_Level': 'enum', 'Expertise_Level': 'enum', 'Company_Location': 'enum', 'Salary_in_USD': 'int', 'Employee_Residence': 'enum', 'Company_Size': 'enum', 'Year': 'int'}\n"
     ]
    }
   ],
   "source": [
    "print(h2o_df.types)"
   ]
  },
  {
   "cell_type": "code",
   "execution_count": 20,
   "id": "fad6ad97",
   "metadata": {},
   "outputs": [],
   "source": [
    "# Variables indépendantes (Features) et Variable cible (Target)\n",
    "train, test = h2o_df.split_frame(ratios = [0.75]) # 25% des observations pour le test set\n",
    "x = train.columns\n",
    "y = \"Salary_in_USD\"\n",
    "x.remove(y)"
   ]
  },
  {
   "cell_type": "code",
   "execution_count": 120,
   "id": "e2712e96",
   "metadata": {},
   "outputs": [],
   "source": [
    "#pip install xgboost"
   ]
  },
  {
   "cell_type": "code",
   "execution_count": 121,
   "id": "17e49623",
   "metadata": {},
   "outputs": [],
   "source": [
    "#from xgboost import XGBRegressor  # Pour la régression\n",
    "#from xgboost import XGBClassifier  # Pour la classification"
   ]
  },
  {
   "cell_type": "code",
   "execution_count": 21,
   "id": "08ec883c",
   "metadata": {},
   "outputs": [
    {
     "name": "stdout",
     "output_type": "stream",
     "text": [
      "AutoML progress: |\n",
      "16:55:06.35: AutoML: XGBoost is not available; skipping it.\n",
      "\n",
      "███████████████████████████████████████████████████████████████| (done) 100%\n",
      "CPU times: total: 2.47 s\n",
      "Wall time: 10min 10s\n"
     ]
    },
    {
     "data": {
      "text/html": [
       "<pre style='margin: 1em 0 1em 0;'>Model Details\n",
       "=============\n",
       "H2OStackedEnsembleEstimator : Stacked Ensemble\n",
       "Model Key: StackedEnsemble_BestOfFamily_4_AutoML_1_20240819_165505\n",
       "</pre>\n",
       "<div style='margin: 1em 0 1em 0;'>\n",
       "<style>\n",
       "\n",
       "#h2o-table-2.h2o-container {\n",
       "  overflow-x: auto;\n",
       "}\n",
       "#h2o-table-2 .h2o-table {\n",
       "  /* width: 100%; */\n",
       "  margin-top: 1em;\n",
       "  margin-bottom: 1em;\n",
       "}\n",
       "#h2o-table-2 .h2o-table caption {\n",
       "  white-space: nowrap;\n",
       "  caption-side: top;\n",
       "  text-align: left;\n",
       "  /* margin-left: 1em; */\n",
       "  margin: 0;\n",
       "  font-size: larger;\n",
       "}\n",
       "#h2o-table-2 .h2o-table thead {\n",
       "  white-space: nowrap; \n",
       "  position: sticky;\n",
       "  top: 0;\n",
       "  box-shadow: 0 -1px inset;\n",
       "}\n",
       "#h2o-table-2 .h2o-table tbody {\n",
       "  overflow: auto;\n",
       "}\n",
       "#h2o-table-2 .h2o-table th,\n",
       "#h2o-table-2 .h2o-table td {\n",
       "  text-align: right;\n",
       "  /* border: 1px solid; */\n",
       "}\n",
       "#h2o-table-2 .h2o-table tr:nth-child(even) {\n",
       "  /* background: #F5F5F5 */\n",
       "}\n",
       "\n",
       "</style>      \n",
       "<div id=\"h2o-table-2\" class=\"h2o-container\">\n",
       "  <table class=\"h2o-table\">\n",
       "    <caption>Model Summary for Stacked Ensemble: </caption>\n",
       "    <thead><tr><th>key</th>\n",
       "<th>value</th></tr></thead>\n",
       "    <tbody><tr><td>Stacking strategy</td>\n",
       "<td>cross_validation</td></tr>\n",
       "<tr><td>Number of base models (used / total)</td>\n",
       "<td>3/5</td></tr>\n",
       "<tr><td># GBM base models (used / total)</td>\n",
       "<td>1/1</td></tr>\n",
       "<tr><td># DRF base models (used / total)</td>\n",
       "<td>1/2</td></tr>\n",
       "<tr><td># DeepLearning base models (used / total)</td>\n",
       "<td>1/1</td></tr>\n",
       "<tr><td># GLM base models (used / total)</td>\n",
       "<td>0/1</td></tr>\n",
       "<tr><td>Metalearner algorithm</td>\n",
       "<td>GLM</td></tr>\n",
       "<tr><td>Metalearner fold assignment scheme</td>\n",
       "<td>Random</td></tr>\n",
       "<tr><td>Metalearner nfolds</td>\n",
       "<td>5</td></tr>\n",
       "<tr><td>Metalearner fold_column</td>\n",
       "<td>None</td></tr>\n",
       "<tr><td>Custom metalearner hyperparameters</td>\n",
       "<td>None</td></tr></tbody>\n",
       "  </table>\n",
       "</div>\n",
       "</div>\n",
       "<div style='margin: 1em 0 1em 0;'><pre style='margin: 1em 0 1em 0;'>ModelMetricsRegressionGLM: stackedensemble\n",
       "** Reported on train data. **\n",
       "\n",
       "MSE: 2867918056.7168956\n",
       "RMSE: 53552.94629352241\n",
       "MAE: 37609.88972492311\n",
       "RMSLE: 0.3452331394039009\n",
       "Mean Residual Deviance: 2867918056.7168956\n",
       "R^2: 0.4349556459620636\n",
       "Null degrees of freedom: 4308\n",
       "Residual degrees of freedom: 4305\n",
       "Null deviance: 21870599746871.16\n",
       "Residual deviance: 12357858906393.104\n",
       "AIC: 106074.86835595078</pre></div>\n",
       "<div style='margin: 1em 0 1em 0;'><pre style='margin: 1em 0 1em 0;'>ModelMetricsRegressionGLM: stackedensemble\n",
       "** Reported on cross-validation data. **\n",
       "\n",
       "MSE: 3276007909.834627\n",
       "RMSE: 57236.42118297253\n",
       "MAE: 41116.393002246055\n",
       "RMSLE: 0.3922030994594683\n",
       "Mean Residual Deviance: 3276007909.834627\n",
       "R^2: 0.35455276732880303\n",
       "Null degrees of freedom: 4308\n",
       "Residual degrees of freedom: 4305\n",
       "Null deviance: 21874464027214.24\n",
       "Residual deviance: 14116318083477.408\n",
       "AIC: 106648.13439679373</pre></div>\n",
       "<div style='margin: 1em 0 1em 0;'>\n",
       "<style>\n",
       "\n",
       "#h2o-table-3.h2o-container {\n",
       "  overflow-x: auto;\n",
       "}\n",
       "#h2o-table-3 .h2o-table {\n",
       "  /* width: 100%; */\n",
       "  margin-top: 1em;\n",
       "  margin-bottom: 1em;\n",
       "}\n",
       "#h2o-table-3 .h2o-table caption {\n",
       "  white-space: nowrap;\n",
       "  caption-side: top;\n",
       "  text-align: left;\n",
       "  /* margin-left: 1em; */\n",
       "  margin: 0;\n",
       "  font-size: larger;\n",
       "}\n",
       "#h2o-table-3 .h2o-table thead {\n",
       "  white-space: nowrap; \n",
       "  position: sticky;\n",
       "  top: 0;\n",
       "  box-shadow: 0 -1px inset;\n",
       "}\n",
       "#h2o-table-3 .h2o-table tbody {\n",
       "  overflow: auto;\n",
       "}\n",
       "#h2o-table-3 .h2o-table th,\n",
       "#h2o-table-3 .h2o-table td {\n",
       "  text-align: right;\n",
       "  /* border: 1px solid; */\n",
       "}\n",
       "#h2o-table-3 .h2o-table tr:nth-child(even) {\n",
       "  /* background: #F5F5F5 */\n",
       "}\n",
       "\n",
       "</style>      \n",
       "<div id=\"h2o-table-3\" class=\"h2o-container\">\n",
       "  <table class=\"h2o-table\">\n",
       "    <caption>Cross-Validation Metrics Summary: </caption>\n",
       "    <thead><tr><th></th>\n",
       "<th>mean</th>\n",
       "<th>sd</th>\n",
       "<th>cv_1_valid</th>\n",
       "<th>cv_2_valid</th>\n",
       "<th>cv_3_valid</th>\n",
       "<th>cv_4_valid</th>\n",
       "<th>cv_5_valid</th></tr></thead>\n",
       "    <tbody><tr><td>aic</td>\n",
       "<td>21335.902</td>\n",
       "<td>872.15857</td>\n",
       "<td>21960.586</td>\n",
       "<td>22056.168</td>\n",
       "<td>21064.43</td>\n",
       "<td>21660.492</td>\n",
       "<td>19937.842</td></tr>\n",
       "<tr><td>loglikelihood</td>\n",
       "<td>0.0</td>\n",
       "<td>0.0</td>\n",
       "<td>0.0</td>\n",
       "<td>0.0</td>\n",
       "<td>0.0</td>\n",
       "<td>0.0</td>\n",
       "<td>0.0</td></tr>\n",
       "<tr><td>mae</td>\n",
       "<td>41135.8</td>\n",
       "<td>855.5916</td>\n",
       "<td>40637.633</td>\n",
       "<td>41006.47</td>\n",
       "<td>40308.117</td>\n",
       "<td>41185.383</td>\n",
       "<td>42541.406</td></tr>\n",
       "<tr><td>mean_residual_deviance</td>\n",
       "<td>3277321220.0000000</td>\n",
       "<td>224523856.0000000</td>\n",
       "<td>3366202880.0000000</td>\n",
       "<td>2919598340.0000000</td>\n",
       "<td>3448532480.0000000</td>\n",
       "<td>3452031490.0000000</td>\n",
       "<td>3200240900.0000000</td></tr>\n",
       "<tr><td>mse</td>\n",
       "<td>3277321220.0000000</td>\n",
       "<td>224523856.0000000</td>\n",
       "<td>3366202880.0000000</td>\n",
       "<td>2919598340.0000000</td>\n",
       "<td>3448532480.0000000</td>\n",
       "<td>3452031490.0000000</td>\n",
       "<td>3200240900.0000000</td></tr>\n",
       "<tr><td>null_deviance</td>\n",
       "<td>4374892900000.0000000</td>\n",
       "<td>257254408000.0000000</td>\n",
       "<td>4745091600000.0000000</td>\n",
       "<td>4126370960000.0000000</td>\n",
       "<td>4362272240000.0000000</td>\n",
       "<td>4493285000000.0000000</td>\n",
       "<td>4147443920000.0000000</td></tr>\n",
       "<tr><td>r2</td>\n",
       "<td>0.3545669</td>\n",
       "<td>0.0241304</td>\n",
       "<td>0.3714383</td>\n",
       "<td>0.3663134</td>\n",
       "<td>0.3287416</td>\n",
       "<td>0.3283146</td>\n",
       "<td>0.3780266</td></tr>\n",
       "<tr><td>residual_deviance</td>\n",
       "<td>2823263620000.0000000</td>\n",
       "<td>209865245000.0000000</td>\n",
       "<td>2982455800000.0000000</td>\n",
       "<td>2613040640000.0000000</td>\n",
       "<td>2927804020000.0000000</td>\n",
       "<td>3013623410000.0000000</td>\n",
       "<td>2579394200000.0000000</td></tr>\n",
       "<tr><td>rmse</td>\n",
       "<td>57220.234</td>\n",
       "<td>1989.3953</td>\n",
       "<td>58018.99</td>\n",
       "<td>54033.31</td>\n",
       "<td>58724.207</td>\n",
       "<td>58753.992</td>\n",
       "<td>56570.67</td></tr>\n",
       "<tr><td>rmsle</td>\n",
       "<td>0.3922313</td>\n",
       "<td>0.0136688</td>\n",
       "<td>0.3885712</td>\n",
       "<td>0.3802264</td>\n",
       "<td>0.3790549</td>\n",
       "<td>0.4070476</td>\n",
       "<td>0.406256</td></tr></tbody>\n",
       "  </table>\n",
       "</div>\n",
       "</div><pre style=\"font-size: smaller; margin: 1em 0 0 0;\">\n",
       "\n",
       "[tips]\n",
       "Use `model.explain()` to inspect the model.\n",
       "--\n",
       "Use `h2o.display.toggle_user_tips()` to switch on/off this section.</pre>"
      ],
      "text/plain": [
       "Model Details\n",
       "=============\n",
       "H2OStackedEnsembleEstimator : Stacked Ensemble\n",
       "Model Key: StackedEnsemble_BestOfFamily_4_AutoML_1_20240819_165505\n",
       "\n",
       "\n",
       "Model Summary for Stacked Ensemble: \n",
       "key                                        value\n",
       "-----------------------------------------  ----------------\n",
       "Stacking strategy                          cross_validation\n",
       "Number of base models (used / total)       3/5\n",
       "# GBM base models (used / total)           1/1\n",
       "# DRF base models (used / total)           1/2\n",
       "# DeepLearning base models (used / total)  1/1\n",
       "# GLM base models (used / total)           0/1\n",
       "Metalearner algorithm                      GLM\n",
       "Metalearner fold assignment scheme         Random\n",
       "Metalearner nfolds                         5\n",
       "Metalearner fold_column\n",
       "Custom metalearner hyperparameters         None\n",
       "\n",
       "ModelMetricsRegressionGLM: stackedensemble\n",
       "** Reported on train data. **\n",
       "\n",
       "MSE: 2867918056.7168956\n",
       "RMSE: 53552.94629352241\n",
       "MAE: 37609.88972492311\n",
       "RMSLE: 0.3452331394039009\n",
       "Mean Residual Deviance: 2867918056.7168956\n",
       "R^2: 0.4349556459620636\n",
       "Null degrees of freedom: 4308\n",
       "Residual degrees of freedom: 4305\n",
       "Null deviance: 21870599746871.16\n",
       "Residual deviance: 12357858906393.104\n",
       "AIC: 106074.86835595078\n",
       "\n",
       "ModelMetricsRegressionGLM: stackedensemble\n",
       "** Reported on cross-validation data. **\n",
       "\n",
       "MSE: 3276007909.834627\n",
       "RMSE: 57236.42118297253\n",
       "MAE: 41116.393002246055\n",
       "RMSLE: 0.3922030994594683\n",
       "Mean Residual Deviance: 3276007909.834627\n",
       "R^2: 0.35455276732880303\n",
       "Null degrees of freedom: 4308\n",
       "Residual degrees of freedom: 4305\n",
       "Null deviance: 21874464027214.24\n",
       "Residual deviance: 14116318083477.408\n",
       "AIC: 106648.13439679373\n",
       "\n",
       "Cross-Validation Metrics Summary: \n",
       "                        mean         sd           cv_1_valid    cv_2_valid    cv_3_valid    cv_4_valid    cv_5_valid\n",
       "----------------------  -----------  -----------  ------------  ------------  ------------  ------------  ------------\n",
       "aic                     21335.9      872.159      21960.6       22056.2       21064.4       21660.5       19937.8\n",
       "loglikelihood           0            0            0             0             0             0             0\n",
       "mae                     41135.8      855.592      40637.6       41006.5       40308.1       41185.4       42541.4\n",
       "mean_residual_deviance  3.27732e+09  2.24524e+08  3.3662e+09    2.9196e+09    3.44853e+09   3.45203e+09   3.20024e+09\n",
       "mse                     3.27732e+09  2.24524e+08  3.3662e+09    2.9196e+09    3.44853e+09   3.45203e+09   3.20024e+09\n",
       "null_deviance           4.37489e+12  2.57254e+11  4.74509e+12   4.12637e+12   4.36227e+12   4.49328e+12   4.14744e+12\n",
       "r2                      0.354567     0.0241304    0.371438      0.366313      0.328742      0.328315      0.378027\n",
       "residual_deviance       2.82326e+12  2.09865e+11  2.98246e+12   2.61304e+12   2.9278e+12    3.01362e+12   2.57939e+12\n",
       "rmse                    57220.2      1989.4       58019         54033.3       58724.2       58754         56570.7\n",
       "rmsle                   0.392231     0.0136688    0.388571      0.380226      0.379055      0.407048      0.406256\n",
       "\n",
       "[tips]\n",
       "Use `model.explain()` to inspect the model.\n",
       "--\n",
       "Use `h2o.display.toggle_user_tips()` to switch on/off this section."
      ]
     },
     "execution_count": 21,
     "metadata": {},
     "output_type": "execute_result"
    }
   ],
   "source": [
    "# Création d'un modèle H2OAutoML\n",
    "\n",
    "aml = H2OAutoML(max_runtime_secs = 600, \n",
    "                #balance_classes = True, \n",
    "                #stopping_metric = 'logloss',# 'logloss' pour la classification, 'deviance' pour la régression\n",
    "                #project_name ='Final', \n",
    "                seed = 1)\n",
    "\n",
    "# Entraînement du modèle\n",
    "\n",
    "%time aml.train(x = x, y = y, training_frame = train)"
   ]
  },
  {
   "cell_type": "code",
   "execution_count": 22,
   "id": "f1902988",
   "metadata": {},
   "outputs": [],
   "source": [
    "# Meilleur modèle\n",
    "Auto_Ml= aml.leader\n",
    "#Auto_Ml"
   ]
  },
  {
   "cell_type": "code",
   "execution_count": 23,
   "id": "b766190d",
   "metadata": {},
   "outputs": [
    {
     "data": {
      "text/html": [
       "<pre style='margin: 1em 0 1em 0;'>ModelMetricsRegressionGLM: stackedensemble\n",
       "** Reported on test data. **\n",
       "\n",
       "MSE: 2975433901.5350165\n",
       "RMSE: 54547.537997007865\n",
       "MAE: 41350.11224680398\n",
       "RMSLE: 0.3881888459736336\n",
       "Mean Residual Deviance: 2975433901.5350165\n",
       "R^2: 0.3708292309935751\n",
       "Null degrees of freedom: 1426\n",
       "Residual degrees of freedom: 1423\n",
       "Null deviance: 6753955430125.962\n",
       "Residual deviance: 4245944177490.4683\n",
       "AIC: 35187.737278449684</pre>"
      ],
      "text/plain": [
       "ModelMetricsRegressionGLM: stackedensemble\n",
       "** Reported on test data. **\n",
       "\n",
       "MSE: 2975433901.5350165\n",
       "RMSE: 54547.537997007865\n",
       "MAE: 41350.11224680398\n",
       "RMSLE: 0.3881888459736336\n",
       "Mean Residual Deviance: 2975433901.5350165\n",
       "R^2: 0.3708292309935751\n",
       "Null degrees of freedom: 1426\n",
       "Residual degrees of freedom: 1423\n",
       "Null deviance: 6753955430125.962\n",
       "Residual deviance: 4245944177490.4683\n",
       "AIC: 35187.737278449684"
      ]
     },
     "execution_count": 23,
     "metadata": {},
     "output_type": "execute_result"
    }
   ],
   "source": [
    "# Performance du meilleur modèle sur les données de test\n",
    "Auto_Ml.model_performance(test)"
   ]
  },
  {
   "cell_type": "code",
   "execution_count": 24,
   "id": "00e2df0c",
   "metadata": {},
   "outputs": [
    {
     "name": "stdout",
     "output_type": "stream",
     "text": [
      "stackedensemble prediction progress: |"
     ]
    },
    {
     "name": "stdout",
     "output_type": "stream",
     "text": [
      "███████████████████████████████████████████| (done) 100%\n"
     ]
    },
    {
     "data": {
      "text/html": [
       "<table class='dataframe'>\n",
       "<thead>\n",
       "<tr><th style=\"text-align: right;\">  predict</th></tr>\n",
       "</thead>\n",
       "<tbody>\n",
       "<tr><td style=\"text-align: right;\">  93060.7</td></tr>\n",
       "<tr><td style=\"text-align: right;\"> 116478  </td></tr>\n",
       "<tr><td style=\"text-align: right;\"> 101817  </td></tr>\n",
       "<tr><td style=\"text-align: right;\"> 101817  </td></tr>\n",
       "<tr><td style=\"text-align: right;\"> 170920  </td></tr>\n",
       "<tr><td style=\"text-align: right;\"> 159210  </td></tr>\n",
       "<tr><td style=\"text-align: right;\"> 127229  </td></tr>\n",
       "<tr><td style=\"text-align: right;\"> 134414  </td></tr>\n",
       "<tr><td style=\"text-align: right;\"> 171534  </td></tr>\n",
       "<tr><td style=\"text-align: right;\"> 137767  </td></tr>\n",
       "</tbody>\n",
       "</table><pre style='font-size: smaller; margin-bottom: 1em;'>[1427 rows x 1 column]</pre>"
      ],
      "text/plain": [
       "  predict\n",
       "---------\n",
       "  93060.7\n",
       " 116478\n",
       " 101817\n",
       " 101817\n",
       " 170920\n",
       " 159210\n",
       " 127229\n",
       " 134414\n",
       " 171534\n",
       " 137767\n",
       "[1427 rows x 1 column]\n"
      ]
     },
     "execution_count": 24,
     "metadata": {},
     "output_type": "execute_result"
    }
   ],
   "source": [
    "# Prédictions sur les données de test\n",
    "preds = Auto_Ml.predict(test)\n",
    "preds"
   ]
  },
  {
   "cell_type": "code",
   "execution_count": 30,
   "id": "1816f4c8",
   "metadata": {},
   "outputs": [],
   "source": [
    "# Enregistrer le modèle\n",
    "model_path = h2o.save_model(model=Auto_Ml, path=\"../Models\", force=True)\n"
   ]
  },
  {
   "cell_type": "code",
   "execution_count": 88,
   "id": "b4fa56c1",
   "metadata": {},
   "outputs": [
    {
     "data": {
      "text/plain": [
       "'C:\\\\Users\\\\bagay\\\\Desktop\\\\PorfolioGitCopie\\\\Models\\\\GBM_grid_1_AutoML_5_20240816_103921_model_5'"
      ]
     },
     "execution_count": 88,
     "metadata": {},
     "output_type": "execute_result"
    }
   ],
   "source": [
    "# Enregistrer le modèle\n",
    "#h2o.save_model(model=Auto_Ml, path=\"../Models/\", force=True)"
   ]
  },
  {
   "cell_type": "code",
   "execution_count": 90,
   "id": "c5fad68f",
   "metadata": {},
   "outputs": [],
   "source": [
    "# Charger le modèle enregistré\n",
    "#loaded_model = h2o.load_model(\"../Models/Data_Science_Wage_Model\")"
   ]
  },
  {
   "cell_type": "code",
   "execution_count": 97,
   "id": "344fa520",
   "metadata": {},
   "outputs": [],
   "source": [
    "# Sauvegarder le modele aec joblib\n",
    "#import joblib\n",
    "#joblib.dump(Auto_Ml, '../Models/Data_Science_Wage_Model.pkl')"
   ]
  },
  {
   "cell_type": "code",
   "execution_count": 20,
   "id": "7a487251",
   "metadata": {},
   "outputs": [
    {
     "name": "stdout",
     "output_type": "stream",
     "text": [
      "C:\\Users\\bagay\\Desktop\\PorfolioGitCopie\\Models\\GBM_grid_1_AutoML_1_20240817_31521_model_5\n"
     ]
    }
   ],
   "source": [
    "## Sauvegarder le meilleur modèle\n",
    "model_path = h2o.save_model(model=Auto_Ml, path=\"../Models/\", force=True)\n",
    "print(model_path)"
   ]
  },
  {
   "cell_type": "code",
   "execution_count": 26,
   "id": "2523f1b7",
   "metadata": {},
   "outputs": [],
   "source": [
    "# Importation du package joblib\n",
    "import joblib\n",
    "\n",
    "# Sauvegarder le chemin du modèle avec joblib\n",
    "joblib.dump(model_path, '../Models/Data_Wage.joblib')\n",
    "\n",
    "# Charger le chemin du modèle avec joblib\n",
    "model_path = joblib.load('../Models/Data_Wage.joblib')\n",
    "\n",
    "# Charger le modèle enregistré à partir du chemin\n",
    "loaded_model = h2o.load_model(model_path)"
   ]
  },
  {
   "cell_type": "markdown",
   "id": "16e9d1ea",
   "metadata": {},
   "source": [
    "# Le modèle à la mano"
   ]
  },
  {
   "cell_type": "code",
   "execution_count": 1,
   "id": "a54aad6d",
   "metadata": {},
   "outputs": [],
   "source": [
    "import pandas as pd\n",
    "from sklearn.model_selection import train_test_split\n",
    "from sklearn.linear_model import LinearRegression\n",
    "from sklearn.preprocessing import OneHotEncoder"
   ]
  },
  {
   "cell_type": "code",
   "execution_count": 15,
   "id": "48d70509",
   "metadata": {},
   "outputs": [],
   "source": [
    "## Imporation des données\n",
    "df = pd.read_csv(\"../Data/Data_Science_Salaries.csv\", sep=\";\")"
   ]
  },
  {
   "cell_type": "code",
   "execution_count": 16,
   "id": "8fd29f72",
   "metadata": {},
   "outputs": [
    {
     "name": "stdout",
     "output_type": "stream",
     "text": [
      "<class 'pandas.core.frame.DataFrame'>\n",
      "RangeIndex: 5736 entries, 0 to 5735\n",
      "Data columns (total 11 columns):\n",
      " #   Column              Non-Null Count  Dtype \n",
      "---  ------              --------------  ----- \n",
      " 0   Job_Title           5736 non-null   object\n",
      " 1   Employment_Type     5736 non-null   object\n",
      " 2   Experience_Level    5736 non-null   object\n",
      " 3   Expertise_Level     5736 non-null   object\n",
      " 4   Salary              5736 non-null   int64 \n",
      " 5   Salary_Currency     5736 non-null   object\n",
      " 6   Company_Location    5736 non-null   object\n",
      " 7   Salary_in_USD       5736 non-null   int64 \n",
      " 8   Employee_Residence  5736 non-null   object\n",
      " 9   Company_Size        5736 non-null   object\n",
      " 10  Year                5736 non-null   int64 \n",
      "dtypes: int64(3), object(8)\n",
      "memory usage: 493.1+ KB\n"
     ]
    }
   ],
   "source": [
    "df.info()"
   ]
  },
  {
   "cell_type": "code",
   "execution_count": 17,
   "id": "4cb5a33f",
   "metadata": {},
   "outputs": [],
   "source": [
    "## Supprimer les colonnes Salary et Salary_Currency\n",
    "df = df.drop(['Salary','Salary_Currency'], axis=1)"
   ]
  },
  {
   "cell_type": "code",
   "execution_count": 18,
   "id": "6cadbc50",
   "metadata": {},
   "outputs": [],
   "source": [
    "# Transformer la colonne Year en type object\n",
    "df['Year'] = df['Year'].astype(object)"
   ]
  },
  {
   "cell_type": "code",
   "execution_count": 19,
   "id": "1e683ff5",
   "metadata": {},
   "outputs": [
    {
     "name": "stdout",
     "output_type": "stream",
     "text": [
      "<class 'pandas.core.frame.DataFrame'>\n",
      "RangeIndex: 5736 entries, 0 to 5735\n",
      "Data columns (total 9 columns):\n",
      " #   Column              Non-Null Count  Dtype \n",
      "---  ------              --------------  ----- \n",
      " 0   Job_Title           5736 non-null   object\n",
      " 1   Employment_Type     5736 non-null   object\n",
      " 2   Experience_Level    5736 non-null   object\n",
      " 3   Expertise_Level     5736 non-null   object\n",
      " 4   Company_Location    5736 non-null   object\n",
      " 5   Salary_in_USD       5736 non-null   int64 \n",
      " 6   Employee_Residence  5736 non-null   object\n",
      " 7   Company_Size        5736 non-null   object\n",
      " 8   Year                5736 non-null   object\n",
      "dtypes: int64(1), object(8)\n",
      "memory usage: 403.4+ KB\n"
     ]
    }
   ],
   "source": [
    "df.info()"
   ]
  },
  {
   "cell_type": "code",
   "execution_count": 20,
   "id": "e3e9789f",
   "metadata": {},
   "outputs": [],
   "source": [
    "# Faire le feature engineering avec label encoding\n",
    "from sklearn.preprocessing import LabelEncoder\n",
    "\n",
    "# Instanciation de l'objet LabelEncoder\n",
    "le = LabelEncoder()\n",
    "\n",
    "# Encodage des variables qualitatives\n",
    "df['Job_Title'] = le.fit_transform(df['Job_Title'])\n",
    "df['Employment_Type'] = le.fit_transform(df['Employment_Type'])\n",
    "df['Experience_Level'] = le.fit_transform(df['Experience_Level'])\n",
    "df['Expertise_Level'] = le.fit_transform(df['Expertise_Level'])\n",
    "df['Company_Location'] = le.fit_transform(df['Company_Location'])\n",
    "df['Employee_Residence'] = le.fit_transform(df['Employee_Residence'])\n",
    "df['Company_Size'] = le.fit_transform(df['Company_Size'])"
   ]
  },
  {
   "cell_type": "code",
   "execution_count": 31,
   "id": "d4bcd82e",
   "metadata": {},
   "outputs": [
    {
     "data": {
      "text/html": [
       "<div>\n",
       "<style scoped>\n",
       "    .dataframe tbody tr th:only-of-type {\n",
       "        vertical-align: middle;\n",
       "    }\n",
       "\n",
       "    .dataframe tbody tr th {\n",
       "        vertical-align: top;\n",
       "    }\n",
       "\n",
       "    .dataframe thead th {\n",
       "        text-align: right;\n",
       "    }\n",
       "</style>\n",
       "<table border=\"1\" class=\"dataframe\">\n",
       "  <thead>\n",
       "    <tr style=\"text-align: right;\">\n",
       "      <th></th>\n",
       "      <th>Job_Title</th>\n",
       "      <th>Employment_Type</th>\n",
       "      <th>Experience_Level</th>\n",
       "      <th>Expertise_Level</th>\n",
       "      <th>Company_Location</th>\n",
       "      <th>Salary_in_USD</th>\n",
       "      <th>Employee_Residence</th>\n",
       "      <th>Company_Size</th>\n",
       "      <th>Year</th>\n",
       "    </tr>\n",
       "  </thead>\n",
       "  <tbody>\n",
       "    <tr>\n",
       "      <th>0</th>\n",
       "      <td>46</td>\n",
       "      <td>2</td>\n",
       "      <td>2</td>\n",
       "      <td>2</td>\n",
       "      <td>73</td>\n",
       "      <td>138000</td>\n",
       "      <td>83</td>\n",
       "      <td>1</td>\n",
       "      <td>2024</td>\n",
       "    </tr>\n",
       "    <tr>\n",
       "      <th>1</th>\n",
       "      <td>46</td>\n",
       "      <td>2</td>\n",
       "      <td>2</td>\n",
       "      <td>2</td>\n",
       "      <td>73</td>\n",
       "      <td>86000</td>\n",
       "      <td>83</td>\n",
       "      <td>1</td>\n",
       "      <td>2024</td>\n",
       "    </tr>\n",
       "    <tr>\n",
       "      <th>2</th>\n",
       "      <td>36</td>\n",
       "      <td>2</td>\n",
       "      <td>0</td>\n",
       "      <td>3</td>\n",
       "      <td>73</td>\n",
       "      <td>179000</td>\n",
       "      <td>83</td>\n",
       "      <td>1</td>\n",
       "      <td>2024</td>\n",
       "    </tr>\n",
       "    <tr>\n",
       "      <th>3</th>\n",
       "      <td>36</td>\n",
       "      <td>2</td>\n",
       "      <td>0</td>\n",
       "      <td>3</td>\n",
       "      <td>73</td>\n",
       "      <td>112000</td>\n",
       "      <td>83</td>\n",
       "      <td>1</td>\n",
       "      <td>2024</td>\n",
       "    </tr>\n",
       "    <tr>\n",
       "      <th>4</th>\n",
       "      <td>25</td>\n",
       "      <td>2</td>\n",
       "      <td>2</td>\n",
       "      <td>2</td>\n",
       "      <td>73</td>\n",
       "      <td>92000</td>\n",
       "      <td>83</td>\n",
       "      <td>1</td>\n",
       "      <td>2024</td>\n",
       "    </tr>\n",
       "  </tbody>\n",
       "</table>\n",
       "</div>"
      ],
      "text/plain": [
       "   Job_Title  Employment_Type  Experience_Level  Expertise_Level  \\\n",
       "0         46                2                 2                2   \n",
       "1         46                2                 2                2   \n",
       "2         36                2                 0                3   \n",
       "3         36                2                 0                3   \n",
       "4         25                2                 2                2   \n",
       "\n",
       "   Company_Location  Salary_in_USD  Employee_Residence  Company_Size  Year  \n",
       "0                73         138000                  83             1  2024  \n",
       "1                73          86000                  83             1  2024  \n",
       "2                73         179000                  83             1  2024  \n",
       "3                73         112000                  83             1  2024  \n",
       "4                73          92000                  83             1  2024  "
      ]
     },
     "execution_count": 31,
     "metadata": {},
     "output_type": "execute_result"
    }
   ],
   "source": [
    "# Afficher les types de données\n",
    "df.head()"
   ]
  },
  {
   "cell_type": "code",
   "execution_count": 32,
   "id": "b9e4c620",
   "metadata": {},
   "outputs": [
    {
     "data": {
      "text/plain": [
       "array([1, 0, 2])"
      ]
     },
     "execution_count": 32,
     "metadata": {},
     "output_type": "execute_result"
    }
   ],
   "source": [
    "## Montre les valeurs uniques de la colonne Year\n",
    "df['Company_Size'].unique()"
   ]
  },
  {
   "cell_type": "code",
   "execution_count": 28,
   "id": "4f3e86f1",
   "metadata": {},
   "outputs": [
    {
     "name": "stdout",
     "output_type": "stream",
     "text": [
      "['Large' 'Medium' 'Small']\n"
     ]
    }
   ],
   "source": [
    "print(le.classes_)"
   ]
  },
  {
   "cell_type": "code",
   "execution_count": 35,
   "id": "ac3ca0c4",
   "metadata": {},
   "outputs": [
    {
     "name": "stdout",
     "output_type": "stream",
     "text": [
      "<class 'pandas.core.frame.DataFrame'>\n",
      "RangeIndex: 5736 entries, 0 to 5735\n",
      "Data columns (total 9 columns):\n",
      " #   Column              Non-Null Count  Dtype \n",
      "---  ------              --------------  ----- \n",
      " 0   Job_Title           5736 non-null   int64 \n",
      " 1   Employment_Type     5736 non-null   int64 \n",
      " 2   Experience_Level    5736 non-null   int64 \n",
      " 3   Expertise_Level     5736 non-null   int64 \n",
      " 4   Company_Location    5736 non-null   int64 \n",
      " 5   Salary_in_USD       5736 non-null   int64 \n",
      " 6   Employee_Residence  5736 non-null   int64 \n",
      " 7   Company_Size        5736 non-null   int64 \n",
      " 8   Year                5736 non-null   object\n",
      "dtypes: int64(8), object(1)\n",
      "memory usage: 403.4+ KB\n"
     ]
    }
   ],
   "source": [
    "df.info()"
   ]
  },
  {
   "cell_type": "code",
   "execution_count": 36,
   "id": "bf0db43f",
   "metadata": {},
   "outputs": [],
   "source": [
    "# Mettre les variables en type object\n",
    "df['Job_Title'] = df['Job_Title'].astype(object)\n",
    "df['Employment_Type'] = df['Employment_Type'].astype(object)\n",
    "df['Experience_Level'] = df['Experience_Level'].astype(object)\n",
    "df['Expertise_Level'] = df['Expertise_Level'].astype(object)\n",
    "df['Company_Location'] = df['Company_Location'].astype(object)\n",
    "df['Employee_Residence'] = df['Employee_Residence'].astype(object)\n",
    "df['Company_Size'] = df['Company_Size'].astype(object)\n"
   ]
  },
  {
   "cell_type": "code",
   "execution_count": 37,
   "id": "7f40308d",
   "metadata": {},
   "outputs": [
    {
     "data": {
      "text/plain": [
       "(5736, 9)"
      ]
     },
     "execution_count": 37,
     "metadata": {},
     "output_type": "execute_result"
    }
   ],
   "source": [
    "df.shape"
   ]
  },
  {
   "cell_type": "code",
   "execution_count": 38,
   "id": "1c143127",
   "metadata": {},
   "outputs": [],
   "source": [
    "## Spliter les données en données d'entrainement et données de test\n",
    "X = df.drop(['Salary_in_USD'], axis=1)\n",
    "y = df['Salary_in_USD']\n",
    "\n",
    "X_train, X_test, y_train, y_test = train_test_split(X, y, test_size=0.25, random_state=42)"
   ]
  },
  {
   "cell_type": "code",
   "execution_count": 39,
   "id": "ca6f4a51",
   "metadata": {},
   "outputs": [],
   "source": [
    "# Faire le modele de random forest regressor avec sklearn\n",
    "from sklearn.ensemble import RandomForestRegressor\n",
    "\n",
    "\n",
    "# Instanciation du modèle\n",
    "rf = RandomForestRegressor(n_estimators=100, random_state=42)\n",
    "\n",
    "# Entraînement du modèle\n",
    "rf.fit(X_train, y_train)\n",
    "\n",
    "# Prédiction sur les données de test\n",
    "y_pred = rf.predict(X_test)\n",
    "\n",
    "# Evaluation du modèle\n",
    "from sklearn.metrics import mean_squared_error"
   ]
  },
  {
   "cell_type": "code",
   "execution_count": 40,
   "id": "7b32573b",
   "metadata": {},
   "outputs": [],
   "source": [
    "\n",
    "# Evaluation du modèle\n",
    "from sklearn.metrics import mean_squared_error"
   ]
  },
  {
   "cell_type": "code",
   "execution_count": 43,
   "id": "b73fb80a",
   "metadata": {},
   "outputs": [
    {
     "data": {
      "text/plain": [
       "array([127946.56830142,  94457.93333333,  39148.73183333, ...,\n",
       "       167034.85150275,  68440.46666667, 189832.58381421])"
      ]
     },
     "execution_count": 43,
     "metadata": {},
     "output_type": "execute_result"
    }
   ],
   "source": [
    "# Prédiction sur les données de test\n",
    "y_pred = rf.predict(X_test)\n",
    "y_pred"
   ]
  },
  {
   "cell_type": "code",
   "execution_count": 42,
   "id": "34caeef4",
   "metadata": {},
   "outputs": [
    {
     "name": "stdout",
     "output_type": "stream",
     "text": [
      "Mean Squared Error : 3196666696.661467\n"
     ]
    }
   ],
   "source": [
    "# Calcul de l'erreur quadratique moyenne\n",
    "mse = mean_squared_error(y_test, y_pred)\n",
    "print('Mean Squared Error :', mse)"
   ]
  },
  {
   "cell_type": "code",
   "execution_count": 44,
   "id": "c0f6b55c",
   "metadata": {},
   "outputs": [
    {
     "name": "stdout",
     "output_type": "stream",
     "text": [
      "R2 Score : 0.3252700502176382\n"
     ]
    }
   ],
   "source": [
    "# Montrer la performance du modèle\n",
    "from sklearn.metrics import r2_score\n",
    "\n",
    "# Calcul du coefficient de détermination\n",
    "r2 = r2_score(y_test, y_pred)\n",
    "print('R2 Score :', r2)"
   ]
  },
  {
   "cell_type": "code",
   "execution_count": 47,
   "id": "1f46e4c0",
   "metadata": {},
   "outputs": [
    {
     "data": {
      "text/plain": [
       "['../Models/Data_Science_Wage_Model.pkl']"
      ]
     },
     "execution_count": 47,
     "metadata": {},
     "output_type": "execute_result"
    }
   ],
   "source": [
    "# Importation du package joblib\n",
    "import joblib\n",
    "\n",
    "# Sauvegarder le modèle avec joblib\n",
    "joblib.dump(rf, '../Models/Data_Science_Wage_Model.pkl')"
   ]
  },
  {
   "cell_type": "code",
   "execution_count": null,
   "id": "dade31c2",
   "metadata": {},
   "outputs": [],
   "source": []
  },
  {
   "cell_type": "code",
   "execution_count": null,
   "id": "d8c1390e",
   "metadata": {},
   "outputs": [],
   "source": []
  }
 ],
 "metadata": {
  "kernelspec": {
   "display_name": "Python 3",
   "language": "python",
   "name": "python3"
  },
  "language_info": {
   "codemirror_mode": {
    "name": "ipython",
    "version": 3
   },
   "file_extension": ".py",
   "mimetype": "text/x-python",
   "name": "python",
   "nbconvert_exporter": "python",
   "pygments_lexer": "ipython3",
   "version": "3.12.4"
  }
 },
 "nbformat": 4,
 "nbformat_minor": 5
}
